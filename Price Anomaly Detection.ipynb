{
 "cells": [
  {
   "cell_type": "markdown",
   "metadata": {},
   "source": [
    "# Price Anomaly Detection\n",
    "The aim of this project is to use two features (Standard Deviation and Kurtosis) extracted from price points distribution of each product from each store to detect price anomalies in sales history.\n",
    "\n",
    "Two approaches has been applied:\n",
    "- Using quantile as threshold\n",
    "- Clustering: Kmeans, Meanshift and DBSCAN"
   ]
  },
  {
   "cell_type": "markdown",
   "metadata": {},
   "source": [
    "## Libraries"
   ]
  },
  {
   "cell_type": "code",
   "execution_count": 1,
   "metadata": {},
   "outputs": [],
   "source": [
    "import pandas as pd\n",
    "import matplotlib.pyplot as plt\n",
    "import numpy as np"
   ]
  },
  {
   "cell_type": "code",
   "execution_count": null,
   "metadata": {},
   "outputs": [],
   "source": [
    "# The step of connecting to database has been removed."
   ]
  },
  {
   "cell_type": "markdown",
   "metadata": {},
   "source": [
    "## Read data"
   ]
  },
  {
   "cell_type": "code",
   "execution_count": 4,
   "metadata": {},
   "outputs": [],
   "source": [
    "sales = pd.read_sql('''\n",
    "                            SELECT *\n",
    "                            FROM SALES_HISTORY_02242020\n",
    "                            ''', connection)"
   ]
  },
  {
   "cell_type": "code",
   "execution_count": 5,
   "metadata": {},
   "outputs": [
    {
     "data": {
      "text/html": [
       "<div>\n",
       "<style scoped>\n",
       "    .dataframe tbody tr th:only-of-type {\n",
       "        vertical-align: middle;\n",
       "    }\n",
       "\n",
       "    .dataframe tbody tr th {\n",
       "        vertical-align: top;\n",
       "    }\n",
       "\n",
       "    .dataframe thead th {\n",
       "        text-align: right;\n",
       "    }\n",
       "</style>\n",
       "<table border=\"1\" class=\"dataframe\">\n",
       "  <thead>\n",
       "    <tr style=\"text-align: right;\">\n",
       "      <th></th>\n",
       "      <th>WEEKLY_SALES_DATE</th>\n",
       "      <th>PRODUCT_ID</th>\n",
       "      <th>STORE_ID</th>\n",
       "      <th>CATEGORY</th>\n",
       "      <th>STORE_GROUP</th>\n",
       "      <th>SALES_TYPE_ID</th>\n",
       "      <th>SALES_PRICE</th>\n",
       "      <th>QUANTITY</th>\n",
       "      <th>REVENUE</th>\n",
       "    </tr>\n",
       "  </thead>\n",
       "  <tbody>\n",
       "    <tr>\n",
       "      <th>0</th>\n",
       "      <td>2018-01-14</td>\n",
       "      <td>1081</td>\n",
       "      <td>03</td>\n",
       "      <td>03</td>\n",
       "      <td>2</td>\n",
       "      <td>1</td>\n",
       "      <td>15.98</td>\n",
       "      <td>6.0</td>\n",
       "      <td>95.88</td>\n",
       "    </tr>\n",
       "    <tr>\n",
       "      <th>1</th>\n",
       "      <td>2018-01-21</td>\n",
       "      <td>1081</td>\n",
       "      <td>03</td>\n",
       "      <td>03</td>\n",
       "      <td>2</td>\n",
       "      <td>1</td>\n",
       "      <td>15.98</td>\n",
       "      <td>8.0</td>\n",
       "      <td>127.84</td>\n",
       "    </tr>\n",
       "    <tr>\n",
       "      <th>2</th>\n",
       "      <td>2018-01-28</td>\n",
       "      <td>1081</td>\n",
       "      <td>03</td>\n",
       "      <td>03</td>\n",
       "      <td>2</td>\n",
       "      <td>1</td>\n",
       "      <td>15.98</td>\n",
       "      <td>9.0</td>\n",
       "      <td>143.82</td>\n",
       "    </tr>\n",
       "    <tr>\n",
       "      <th>3</th>\n",
       "      <td>2018-02-04</td>\n",
       "      <td>1081</td>\n",
       "      <td>03</td>\n",
       "      <td>03</td>\n",
       "      <td>2</td>\n",
       "      <td>2</td>\n",
       "      <td>12.98</td>\n",
       "      <td>29.0</td>\n",
       "      <td>376.42</td>\n",
       "    </tr>\n",
       "    <tr>\n",
       "      <th>4</th>\n",
       "      <td>2018-02-04</td>\n",
       "      <td>1081</td>\n",
       "      <td>03</td>\n",
       "      <td>03</td>\n",
       "      <td>2</td>\n",
       "      <td>1</td>\n",
       "      <td>15.98</td>\n",
       "      <td>3.0</td>\n",
       "      <td>47.94</td>\n",
       "    </tr>\n",
       "  </tbody>\n",
       "</table>\n",
       "</div>"
      ],
      "text/plain": [
       "  WEEKLY_SALES_DATE PRODUCT_ID STORE_ID CATEGORY STORE_GROUP SALES_TYPE_ID  \\\n",
       "0        2018-01-14       1081       03       03           2             1   \n",
       "1        2018-01-21       1081       03       03           2             1   \n",
       "2        2018-01-28       1081       03       03           2             1   \n",
       "3        2018-02-04       1081       03       03           2             2   \n",
       "4        2018-02-04       1081       03       03           2             1   \n",
       "\n",
       "   SALES_PRICE  QUANTITY  REVENUE  \n",
       "0        15.98       6.0    95.88  \n",
       "1        15.98       8.0   127.84  \n",
       "2        15.98       9.0   143.82  \n",
       "3        12.98      29.0   376.42  \n",
       "4        15.98       3.0    47.94  "
      ]
     },
     "execution_count": 5,
     "metadata": {},
     "output_type": "execute_result"
    }
   ],
   "source": [
    "sales.head()"
   ]
  },
  {
   "cell_type": "code",
   "execution_count": 6,
   "metadata": {},
   "outputs": [
    {
     "data": {
      "text/plain": [
       "(2108522, 9)"
      ]
     },
     "execution_count": 6,
     "metadata": {},
     "output_type": "execute_result"
    }
   ],
   "source": [
    "sales.shape"
   ]
  },
  {
   "cell_type": "code",
   "execution_count": 7,
   "metadata": {},
   "outputs": [],
   "source": [
    "# Choose sales['SALES_TYPE_ID']==1 which is not promote price\n",
    "sales_trimmed = sales[sales['SALES_TYPE_ID'] == '1'].copy()"
   ]
  },
  {
   "cell_type": "code",
   "execution_count": 8,
   "metadata": {},
   "outputs": [
    {
     "data": {
      "text/html": [
       "<div>\n",
       "<style scoped>\n",
       "    .dataframe tbody tr th:only-of-type {\n",
       "        vertical-align: middle;\n",
       "    }\n",
       "\n",
       "    .dataframe tbody tr th {\n",
       "        vertical-align: top;\n",
       "    }\n",
       "\n",
       "    .dataframe thead th {\n",
       "        text-align: right;\n",
       "    }\n",
       "</style>\n",
       "<table border=\"1\" class=\"dataframe\">\n",
       "  <thead>\n",
       "    <tr style=\"text-align: right;\">\n",
       "      <th></th>\n",
       "      <th>WEEKLY_SALES_DATE</th>\n",
       "      <th>PRODUCT_ID</th>\n",
       "      <th>STORE_ID</th>\n",
       "      <th>CATEGORY</th>\n",
       "      <th>STORE_GROUP</th>\n",
       "      <th>SALES_TYPE_ID</th>\n",
       "      <th>SALES_PRICE</th>\n",
       "      <th>QUANTITY</th>\n",
       "      <th>REVENUE</th>\n",
       "    </tr>\n",
       "  </thead>\n",
       "  <tbody>\n",
       "    <tr>\n",
       "      <th>0</th>\n",
       "      <td>2018-01-14</td>\n",
       "      <td>1081</td>\n",
       "      <td>03</td>\n",
       "      <td>03</td>\n",
       "      <td>2</td>\n",
       "      <td>1</td>\n",
       "      <td>15.98</td>\n",
       "      <td>6.0</td>\n",
       "      <td>95.88</td>\n",
       "    </tr>\n",
       "    <tr>\n",
       "      <th>1</th>\n",
       "      <td>2018-01-21</td>\n",
       "      <td>1081</td>\n",
       "      <td>03</td>\n",
       "      <td>03</td>\n",
       "      <td>2</td>\n",
       "      <td>1</td>\n",
       "      <td>15.98</td>\n",
       "      <td>8.0</td>\n",
       "      <td>127.84</td>\n",
       "    </tr>\n",
       "    <tr>\n",
       "      <th>2</th>\n",
       "      <td>2018-01-28</td>\n",
       "      <td>1081</td>\n",
       "      <td>03</td>\n",
       "      <td>03</td>\n",
       "      <td>2</td>\n",
       "      <td>1</td>\n",
       "      <td>15.98</td>\n",
       "      <td>9.0</td>\n",
       "      <td>143.82</td>\n",
       "    </tr>\n",
       "    <tr>\n",
       "      <th>4</th>\n",
       "      <td>2018-02-04</td>\n",
       "      <td>1081</td>\n",
       "      <td>03</td>\n",
       "      <td>03</td>\n",
       "      <td>2</td>\n",
       "      <td>1</td>\n",
       "      <td>15.98</td>\n",
       "      <td>3.0</td>\n",
       "      <td>47.94</td>\n",
       "    </tr>\n",
       "    <tr>\n",
       "      <th>7</th>\n",
       "      <td>2018-03-04</td>\n",
       "      <td>1081</td>\n",
       "      <td>03</td>\n",
       "      <td>03</td>\n",
       "      <td>2</td>\n",
       "      <td>1</td>\n",
       "      <td>15.98</td>\n",
       "      <td>2.0</td>\n",
       "      <td>31.96</td>\n",
       "    </tr>\n",
       "  </tbody>\n",
       "</table>\n",
       "</div>"
      ],
      "text/plain": [
       "  WEEKLY_SALES_DATE PRODUCT_ID STORE_ID CATEGORY STORE_GROUP SALES_TYPE_ID  \\\n",
       "0        2018-01-14       1081       03       03           2             1   \n",
       "1        2018-01-21       1081       03       03           2             1   \n",
       "2        2018-01-28       1081       03       03           2             1   \n",
       "4        2018-02-04       1081       03       03           2             1   \n",
       "7        2018-03-04       1081       03       03           2             1   \n",
       "\n",
       "   SALES_PRICE  QUANTITY  REVENUE  \n",
       "0        15.98       6.0    95.88  \n",
       "1        15.98       8.0   127.84  \n",
       "2        15.98       9.0   143.82  \n",
       "4        15.98       3.0    47.94  \n",
       "7        15.98       2.0    31.96  "
      ]
     },
     "execution_count": 8,
     "metadata": {},
     "output_type": "execute_result"
    }
   ],
   "source": [
    "sales_trimmed.head()"
   ]
  },
  {
   "cell_type": "code",
   "execution_count": 9,
   "metadata": {
    "scrolled": true
   },
   "outputs": [
    {
     "data": {
      "text/plain": [
       "<matplotlib.axes._subplots.AxesSubplot at 0x1324ef9e8>"
      ]
     },
     "execution_count": 9,
     "metadata": {},
     "output_type": "execute_result"
    },
    {
     "data": {
      "image/png": "[encoded data removed]",
      "text/plain": [
       "<Figure size 432x288 with 1 Axes>"
      ]
     },
     "metadata": {
      "needs_background": "light"
     },
     "output_type": "display_data"
    }
   ],
   "source": [
    "# check the sales missing weeks\n",
    "sales_trimmed.groupby(['STORE_ID','PRODUCT_ID']).count()['WEEKLY_SALES_DATE'].sort_values().plot.hist(bins = 15)\n",
    "# if the product is not sold for some weeks, there will be no rows for these weeks in the dataset.\n",
    "# for price anomaly detection, we do not apply forward filling."
   ]
  },
  {
   "cell_type": "markdown",
   "metadata": {},
   "source": [
    "## Extract two feasures Kurtosis and Std_dev of each product in each store "
   ]
  },
  {
   "cell_type": "code",
   "execution_count": 11,
   "metadata": {
    "scrolled": true
   },
   "outputs": [],
   "source": [
    "# 1 means only price type 1 which is not promotion price\n",
    "sales_1 = sales_trimmed[['STORE_ID','PRODUCT_ID','SALES_PRICE']].groupby(['STORE_ID','PRODUCT_ID'])"
   ]
  },
  {
   "cell_type": "code",
   "execution_count": 12,
   "metadata": {},
   "outputs": [],
   "source": [
    "# Kurtosis and Std_dev for price type 1\n",
    "metrics_1 = sales_1.apply(pd.DataFrame.kurt)[['SALES_PRICE']]\n",
    "metrics_1.columns = ['KURT']\n",
    "metrics_1['SD'] = sales_1.apply(pd.DataFrame.std)"
   ]
  },
  {
   "cell_type": "code",
   "execution_count": 13,
   "metadata": {},
   "outputs": [
    {
     "data": {
      "text/html": [
       "<div>\n",
       "<style scoped>\n",
       "    .dataframe tbody tr th:only-of-type {\n",
       "        vertical-align: middle;\n",
       "    }\n",
       "\n",
       "    .dataframe tbody tr th {\n",
       "        vertical-align: top;\n",
       "    }\n",
       "\n",
       "    .dataframe thead th {\n",
       "        text-align: right;\n",
       "    }\n",
       "</style>\n",
       "<table border=\"1\" class=\"dataframe\">\n",
       "  <thead>\n",
       "    <tr style=\"text-align: right;\">\n",
       "      <th></th>\n",
       "      <th></th>\n",
       "      <th>KURT</th>\n",
       "      <th>SD</th>\n",
       "    </tr>\n",
       "    <tr>\n",
       "      <th>STORE_ID</th>\n",
       "      <th>PRODUCT_ID</th>\n",
       "      <th></th>\n",
       "      <th></th>\n",
       "    </tr>\n",
       "  </thead>\n",
       "  <tbody>\n",
       "    <tr>\n",
       "      <th>15</th>\n",
       "      <th>0577</th>\n",
       "      <td>130.0</td>\n",
       "      <td>0.001754</td>\n",
       "    </tr>\n",
       "    <tr>\n",
       "      <th>02</th>\n",
       "      <th>0282</th>\n",
       "      <td>130.0</td>\n",
       "      <td>0.043853</td>\n",
       "    </tr>\n",
       "    <tr>\n",
       "      <th rowspan=\"2\" valign=\"top\">15</th>\n",
       "      <th>1148</th>\n",
       "      <td>130.0</td>\n",
       "      <td>0.006139</td>\n",
       "    </tr>\n",
       "    <tr>\n",
       "      <th>0499</th>\n",
       "      <td>130.0</td>\n",
       "      <td>0.052623</td>\n",
       "    </tr>\n",
       "    <tr>\n",
       "      <th>08</th>\n",
       "      <th>0393</th>\n",
       "      <td>130.0</td>\n",
       "      <td>0.064902</td>\n",
       "    </tr>\n",
       "  </tbody>\n",
       "</table>\n",
       "</div>"
      ],
      "text/plain": [
       "                      KURT        SD\n",
       "STORE_ID PRODUCT_ID                 \n",
       "15       0577        130.0  0.001754\n",
       "02       0282        130.0  0.043853\n",
       "15       1148        130.0  0.006139\n",
       "         0499        130.0  0.052623\n",
       "08       0393        130.0  0.064902"
      ]
     },
     "execution_count": 13,
     "metadata": {},
     "output_type": "execute_result"
    }
   ],
   "source": [
    "metrics_1.sort_values(['KURT'], ascending = False).head()"
   ]
  },
  {
   "cell_type": "code",
   "execution_count": 14,
   "metadata": {},
   "outputs": [
    {
     "name": "stdout",
     "output_type": "stream",
     "text": [
      "\n",
      " KURTOSIS\n",
      "count    18441.000000\n",
      "mean         4.886965\n",
      "std         17.633382\n",
      "min         -4.625949\n",
      "25%         -0.940302\n",
      "50%          0.000000\n",
      "75%          1.917907\n",
      "max        130.000000\n",
      "Name: KURT, dtype: float64\n",
      "\n",
      " STD_DEV\n",
      "count    1.853700e+04\n",
      "mean     4.159427e-01\n",
      "std      6.890521e-01\n",
      "min      0.000000e+00\n",
      "25%      7.846206e-14\n",
      "50%      2.498725e-01\n",
      "75%      5.186863e-01\n",
      "max      2.682255e+01\n",
      "Name: SD, dtype: float64\n"
     ]
    }
   ],
   "source": [
    "# Check the statistical summary of each metric\n",
    "print('\\n', 'KURTOSIS')\n",
    "print(metrics_1['KURT'].describe())\n",
    "print('\\n', 'STD_DEV')\n",
    "print(metrics_1['SD'].describe())"
   ]
  },
  {
   "cell_type": "markdown",
   "metadata": {},
   "source": [
    "## Check the distribution"
   ]
  },
  {
   "cell_type": "code",
   "execution_count": 18,
   "metadata": {},
   "outputs": [
    {
     "data": {
      "text/plain": [
       "(0, 300)"
      ]
     },
     "execution_count": 18,
     "metadata": {},
     "output_type": "execute_result"
    },
    {
     "data": {
      "image/png": "[encoded data removed]",
      "text/plain": [
       "<Figure size 1080x720 with 4 Axes>"
      ]
     },
     "metadata": {
      "needs_background": "light"
     },
     "output_type": "display_data"
    }
   ],
   "source": [
    "### Kurtosis and Std_dev distribution\n",
    "plt.figure(figsize=(15,10))\n",
    "\n",
    "plt.subplot(221, title = \"KURTOSIS 1\")\n",
    "plt.hist(metrics_1['KURT'], bins = 100)\n",
    "\n",
    "plt.subplot(222, title = \"KURTOSIS 1 - Zoom In\")\n",
    "plt.hist(metrics_1['KURT'], bins = 100)\n",
    "plt.ylim((0,300))\n",
    "\n",
    "plt.subplot(223, title = \"STD_DEV 1\")\n",
    "plt.hist(metrics_1['SD'], bins = 100)\n",
    "\n",
    "plt.subplot(224, title = \"STD_DEV 1 - Zoom In\")\n",
    "plt.hist(metrics_1['SD'], bins = 100)\n",
    "plt.ylim((0,300))"
   ]
  },
  {
   "cell_type": "code",
   "execution_count": 20,
   "metadata": {},
   "outputs": [
    {
     "data": {
      "text/plain": [
       "Text(0, 0.5, 'Kurtosis')"
      ]
     },
     "execution_count": 20,
     "metadata": {},
     "output_type": "execute_result"
    },
    {
     "data": {
      "image/png": "[encoded data removed]",
      "text/plain": [
       "<Figure size 432x288 with 1 Axes>"
      ]
     },
     "metadata": {
      "needs_background": "light"
     },
     "output_type": "display_data"
    }
   ],
   "source": [
    "### Scatter plot of SD vs Kurtosis\n",
    "plt.scatter(metrics_1['SD'],metrics_1['KURT'],s=5)\n",
    "plt.title(\"Std_dev vs Kurtosis for Type 1\")\n",
    "plt.xlabel(\"Sd\")\n",
    "plt.ylabel(\"Kurtosis\")"
   ]
  },
  {
   "cell_type": "markdown",
   "metadata": {},
   "source": [
    "## Using Quantile as Threshold"
   ]
  },
  {
   "cell_type": "code",
   "execution_count": 21,
   "metadata": {},
   "outputs": [
    {
     "name": "stdout",
     "output_type": "stream",
     "text": [
      "30.459771149782004\n",
      "1.2972021146394983\n"
     ]
    }
   ],
   "source": [
    "# Check quantile\n",
    "thres_kurt = metrics_1['KURT'].quantile(0.95)\n",
    "thres_sd = metrics_1['SD'].quantile(0.95)\n",
    "print(thres_kurt)\n",
    "print(thres_sd)"
   ]
  },
  {
   "cell_type": "code",
   "execution_count": 22,
   "metadata": {},
   "outputs": [
    {
     "name": "stdout",
     "output_type": "stream",
     "text": [
      "Num of Products filtered out:  80\n"
     ]
    },
    {
     "name": "stderr",
     "output_type": "stream",
     "text": [
      "//anaconda3/lib/python3.7/site-packages/ipykernel_launcher.py:4: SettingWithCopyWarning: \n",
      "A value is trying to be set on a copy of a slice from a DataFrame.\n",
      "Try using .loc[row_indexer,col_indexer] = value instead\n",
      "\n",
      "See the caveats in the documentation: http://pandas.pydata.org/pandas-docs/stable/indexing.html#indexing-view-versus-copy\n",
      "  after removing the cwd from sys.path.\n"
     ]
    }
   ],
   "source": [
    "# Filter products according to thresholds above\n",
    "products_filter = metrics_1[(metrics_1['KURT']>=thres_kurt) & (metrics_1['SD']>=thres_sd)]\n",
    "print('Num of Products filtered out: ', len(products_filter))\n",
    "products_filter['Filter'] = 1\n",
    "# Join\n",
    "metrics_1 = metrics_1.join(products_filter['Filter'],how='left')\n",
    "metrics_1['Filter'].fillna(0,inplace=True)"
   ]
  },
  {
   "cell_type": "code",
   "execution_count": 23,
   "metadata": {},
   "outputs": [
    {
     "data": {
      "text/plain": [
       "(-1, 30)"
      ]
     },
     "execution_count": 23,
     "metadata": {},
     "output_type": "execute_result"
    },
    {
     "data": {
      "image/png": "[encoded data removed]",
      "text/plain": [
       "<Figure size 432x432 with 1 Axes>"
      ]
     },
     "metadata": {
      "needs_background": "light"
     },
     "output_type": "display_data"
    }
   ],
   "source": [
    "# Plot\n",
    "plt.figure(figsize=(6,6))\n",
    "plt.scatter(metrics_1['SD'],metrics_1['KURT'],s=5,c=metrics_1['Filter'])\n",
    "plt.title(\"Quantile as Threshold Filter Result for Type 1\")\n",
    "plt.xlabel(\"Sd\")\n",
    "plt.ylabel(\"Kurtosis\")\n",
    "plt.plot([thres_sd, thres_sd], [-20,140], 'k-', lw=1,dashes=[3,3], c='red')\n",
    "plt.plot([-2, 30], [thres_kurt,thres_kurt], 'k-', lw=1,dashes=[3,3], c='red')\n",
    "plt.ylim(-10,140)\n",
    "plt.xlim(-1,30)"
   ]
  },
  {
   "cell_type": "code",
   "execution_count": 25,
   "metadata": {},
   "outputs": [
    {
     "data": {
      "text/html": [
       "<div>\n",
       "<style scoped>\n",
       "    .dataframe tbody tr th:only-of-type {\n",
       "        vertical-align: middle;\n",
       "    }\n",
       "\n",
       "    .dataframe tbody tr th {\n",
       "        vertical-align: top;\n",
       "    }\n",
       "\n",
       "    .dataframe thead th {\n",
       "        text-align: right;\n",
       "    }\n",
       "</style>\n",
       "<table border=\"1\" class=\"dataframe\">\n",
       "  <thead>\n",
       "    <tr style=\"text-align: right;\">\n",
       "      <th></th>\n",
       "      <th></th>\n",
       "      <th>KURT</th>\n",
       "      <th>SD</th>\n",
       "      <th>Filter</th>\n",
       "    </tr>\n",
       "    <tr>\n",
       "      <th>STORE_ID</th>\n",
       "      <th>PRODUCT_ID</th>\n",
       "      <th></th>\n",
       "      <th></th>\n",
       "      <th></th>\n",
       "    </tr>\n",
       "  </thead>\n",
       "  <tbody>\n",
       "    <tr>\n",
       "      <th>01</th>\n",
       "      <th>0512</th>\n",
       "      <td>36.632510</td>\n",
       "      <td>2.331381</td>\n",
       "      <td>1.0</td>\n",
       "    </tr>\n",
       "    <tr>\n",
       "      <th rowspan=\"4\" valign=\"top\">02</th>\n",
       "      <th>0179</th>\n",
       "      <td>42.600312</td>\n",
       "      <td>2.192510</td>\n",
       "      <td>1.0</td>\n",
       "    </tr>\n",
       "    <tr>\n",
       "      <th>0210</th>\n",
       "      <td>70.880084</td>\n",
       "      <td>3.475996</td>\n",
       "      <td>1.0</td>\n",
       "    </tr>\n",
       "    <tr>\n",
       "      <th>0512</th>\n",
       "      <td>42.454087</td>\n",
       "      <td>2.361485</td>\n",
       "      <td>1.0</td>\n",
       "    </tr>\n",
       "    <tr>\n",
       "      <th>0632</th>\n",
       "      <td>93.869498</td>\n",
       "      <td>3.114801</td>\n",
       "      <td>1.0</td>\n",
       "    </tr>\n",
       "  </tbody>\n",
       "</table>\n",
       "</div>"
      ],
      "text/plain": [
       "                          KURT        SD  Filter\n",
       "STORE_ID PRODUCT_ID                             \n",
       "01       0512        36.632510  2.331381     1.0\n",
       "02       0179        42.600312  2.192510     1.0\n",
       "         0210        70.880084  3.475996     1.0\n",
       "         0512        42.454087  2.361485     1.0\n",
       "         0632        93.869498  3.114801     1.0"
      ]
     },
     "execution_count": 25,
     "metadata": {},
     "output_type": "execute_result"
    }
   ],
   "source": [
    "# Flag the products filtered out\n",
    "metrics_1[metrics_1['Filter']==1].head(5)"
   ]
  },
  {
   "cell_type": "markdown",
   "metadata": {},
   "source": [
    "## Clustering Algorithms"
   ]
  },
  {
   "cell_type": "markdown",
   "metadata": {},
   "source": [
    "### Kmeans"
   ]
  },
  {
   "cell_type": "code",
   "execution_count": 26,
   "metadata": {},
   "outputs": [],
   "source": [
    "from sklearn.cluster import KMeans\n",
    "metrics_1.dropna(inplace=True)\n",
    "kmeans = KMeans(n_clusters=3, random_state=0).fit(metrics_1[['KURT','SD']])\n",
    "\n",
    "metrics_1['Kmeans'] = kmeans.labels_"
   ]
  },
  {
   "cell_type": "code",
   "execution_count": 27,
   "metadata": {},
   "outputs": [
    {
     "data": {
      "text/plain": [
       "0    17181\n",
       "2      821\n",
       "1      439\n",
       "Name: Kmeans, dtype: int64"
      ]
     },
     "execution_count": 27,
     "metadata": {},
     "output_type": "execute_result"
    }
   ],
   "source": [
    "metrics_1['Kmeans'].value_counts()"
   ]
  },
  {
   "cell_type": "code",
   "execution_count": 28,
   "metadata": {},
   "outputs": [
    {
     "data": {
      "text/plain": [
       "Text(0, 0.5, 'Kurtosis')"
      ]
     },
     "execution_count": 28,
     "metadata": {},
     "output_type": "execute_result"
    },
    {
     "data": {
      "image/png": "[encoded data removed]",
      "text/plain": [
       "<Figure size 432x432 with 1 Axes>"
      ]
     },
     "metadata": {
      "needs_background": "light"
     },
     "output_type": "display_data"
    }
   ],
   "source": [
    "# Plot\n",
    "plt.figure(figsize=(6,6))\n",
    "plt.scatter(metrics_1['SD'],metrics_1['KURT'],s=5,c=metrics_1['Kmeans'])\n",
    "plt.title(\"Kmeans Result for Type 1\")\n",
    "plt.xlabel(\"Sd\")\n",
    "plt.ylabel(\"Kurtosis\")"
   ]
  },
  {
   "cell_type": "markdown",
   "metadata": {},
   "source": [
    "### MeanShift"
   ]
  },
  {
   "cell_type": "code",
   "execution_count": 29,
   "metadata": {},
   "outputs": [],
   "source": [
    "from sklearn.cluster import MeanShift\n",
    "MeanShift = MeanShift().fit(metrics_1[['KURT','SD']])\n",
    "\n",
    "metrics_1['MeanShift'] = MeanShift.labels_"
   ]
  },
  {
   "cell_type": "code",
   "execution_count": 30,
   "metadata": {},
   "outputs": [
    {
     "data": {
      "text/plain": [
       "0     17205\n",
       "1       605\n",
       "2       123\n",
       "6        95\n",
       "4        90\n",
       "3        90\n",
       "7        63\n",
       "9        59\n",
       "8        55\n",
       "5        49\n",
       "14        2\n",
       "10        2\n",
       "13        1\n",
       "12        1\n",
       "11        1\n",
       "Name: MeanShift, dtype: int64"
      ]
     },
     "execution_count": 30,
     "metadata": {},
     "output_type": "execute_result"
    }
   ],
   "source": [
    "metrics_1['MeanShift'].value_counts()"
   ]
  },
  {
   "cell_type": "code",
   "execution_count": 31,
   "metadata": {},
   "outputs": [
    {
     "data": {
      "text/plain": [
       "Text(0, 0.5, 'Kurtosis')"
      ]
     },
     "execution_count": 31,
     "metadata": {},
     "output_type": "execute_result"
    },
    {
     "data": {
      "image/png": "[encoded data removed]",
      "text/plain": [
       "<Figure size 432x432 with 1 Axes>"
      ]
     },
     "metadata": {
      "needs_background": "light"
     },
     "output_type": "display_data"
    }
   ],
   "source": [
    "# Plot\n",
    "plt.figure(figsize=(6,6))\n",
    "plt.scatter(metrics_1['SD'],metrics_1['KURT'],s=5,c=metrics_1['MeanShift'])\n",
    "plt.title(\"MeanShift Result for Type 1\")\n",
    "plt.xlabel(\"Sd\")\n",
    "plt.ylabel(\"Kurtosis\")"
   ]
  },
  {
   "cell_type": "markdown",
   "metadata": {},
   "source": [
    "### DBSCAN"
   ]
  },
  {
   "cell_type": "code",
   "execution_count": 32,
   "metadata": {},
   "outputs": [],
   "source": [
    "from sklearn.cluster import DBSCAN\n",
    "DBSCAN = DBSCAN(eps=1.5, min_samples=5).fit(metrics_1[['KURT','SD']])\n",
    "\n",
    "metrics_1['DBSCAN'] = DBSCAN.labels_"
   ]
  },
  {
   "cell_type": "code",
   "execution_count": 33,
   "metadata": {},
   "outputs": [
    {
     "data": {
      "text/plain": [
       " 0    17969\n",
       " 2      433\n",
       "-1       28\n",
       " 1       11\n",
       "Name: DBSCAN, dtype: int64"
      ]
     },
     "execution_count": 33,
     "metadata": {},
     "output_type": "execute_result"
    }
   ],
   "source": [
    "metrics_1['DBSCAN'].value_counts()"
   ]
  },
  {
   "cell_type": "code",
   "execution_count": 34,
   "metadata": {},
   "outputs": [
    {
     "data": {
      "text/plain": [
       "[0, 1, 2, -1]"
      ]
     },
     "execution_count": 34,
     "metadata": {},
     "output_type": "execute_result"
    }
   ],
   "source": [
    "def unique_list(l):\n",
    "    x = []\n",
    "    for a in l:\n",
    "        if a not in x:\n",
    "            x.append(a)\n",
    "    return x\n",
    "\n",
    "unique_list(list(DBSCAN.labels_))"
   ]
  },
  {
   "cell_type": "code",
   "execution_count": 35,
   "metadata": {},
   "outputs": [
    {
     "data": {
      "text/plain": [
       "Text(0, 0.5, 'Kurtosis')"
      ]
     },
     "execution_count": 35,
     "metadata": {},
     "output_type": "execute_result"
    },
    {
     "data": {
      "image/png": "[encoded data removed]",
      "text/plain": [
       "<Figure size 432x432 with 1 Axes>"
      ]
     },
     "metadata": {
      "needs_background": "light"
     },
     "output_type": "display_data"
    }
   ],
   "source": [
    "# Plot\n",
    "plt.figure(figsize=(6,6))\n",
    "plt.scatter(metrics_1['SD'],metrics_1['KURT'],s=5,c=metrics_1['DBSCAN'])\n",
    "plt.title(\"DBSCAN Result for Type 1\")\n",
    "plt.xlabel(\"Sd\")\n",
    "plt.ylabel(\"Kurtosis\")"
   ]
  },
  {
   "cell_type": "code",
   "execution_count": 36,
   "metadata": {},
   "outputs": [
    {
     "data": {
      "text/html": [
       "<div>\n",
       "<style scoped>\n",
       "    .dataframe tbody tr th:only-of-type {\n",
       "        vertical-align: middle;\n",
       "    }\n",
       "\n",
       "    .dataframe tbody tr th {\n",
       "        vertical-align: top;\n",
       "    }\n",
       "\n",
       "    .dataframe thead th {\n",
       "        text-align: right;\n",
       "    }\n",
       "</style>\n",
       "<table border=\"1\" class=\"dataframe\">\n",
       "  <thead>\n",
       "    <tr style=\"text-align: right;\">\n",
       "      <th></th>\n",
       "      <th></th>\n",
       "      <th>KURT</th>\n",
       "      <th>SD</th>\n",
       "      <th>Filter</th>\n",
       "      <th>Kmeans</th>\n",
       "      <th>MeanShift</th>\n",
       "      <th>DBSCAN</th>\n",
       "    </tr>\n",
       "    <tr>\n",
       "      <th>STORE_ID</th>\n",
       "      <th>PRODUCT_ID</th>\n",
       "      <th></th>\n",
       "      <th></th>\n",
       "      <th></th>\n",
       "      <th></th>\n",
       "      <th></th>\n",
       "      <th></th>\n",
       "    </tr>\n",
       "  </thead>\n",
       "  <tbody>\n",
       "    <tr>\n",
       "      <th rowspan=\"4\" valign=\"top\">02</th>\n",
       "      <th>0210</th>\n",
       "      <td>70.880084</td>\n",
       "      <td>3.475996</td>\n",
       "      <td>1.0</td>\n",
       "      <td>1</td>\n",
       "      <td>7</td>\n",
       "      <td>-1</td>\n",
       "    </tr>\n",
       "    <tr>\n",
       "      <th>0632</th>\n",
       "      <td>93.869498</td>\n",
       "      <td>3.114801</td>\n",
       "      <td>1.0</td>\n",
       "      <td>1</td>\n",
       "      <td>5</td>\n",
       "      <td>-1</td>\n",
       "    </tr>\n",
       "    <tr>\n",
       "      <th>1031</th>\n",
       "      <td>54.531122</td>\n",
       "      <td>17.875436</td>\n",
       "      <td>1.0</td>\n",
       "      <td>2</td>\n",
       "      <td>10</td>\n",
       "      <td>-1</td>\n",
       "    </tr>\n",
       "    <tr>\n",
       "      <th>1038</th>\n",
       "      <td>58.000000</td>\n",
       "      <td>4.587847</td>\n",
       "      <td>1.0</td>\n",
       "      <td>2</td>\n",
       "      <td>4</td>\n",
       "      <td>-1</td>\n",
       "    </tr>\n",
       "    <tr>\n",
       "      <th>03</th>\n",
       "      <th>1038</th>\n",
       "      <td>26.857802</td>\n",
       "      <td>3.827462</td>\n",
       "      <td>0.0</td>\n",
       "      <td>2</td>\n",
       "      <td>1</td>\n",
       "      <td>-1</td>\n",
       "    </tr>\n",
       "  </tbody>\n",
       "</table>\n",
       "</div>"
      ],
      "text/plain": [
       "                          KURT         SD  Filter  Kmeans  MeanShift  DBSCAN\n",
       "STORE_ID PRODUCT_ID                                                         \n",
       "02       0210        70.880084   3.475996     1.0       1          7      -1\n",
       "         0632        93.869498   3.114801     1.0       1          5      -1\n",
       "         1031        54.531122  17.875436     1.0       2         10      -1\n",
       "         1038        58.000000   4.587847     1.0       2          4      -1\n",
       "03       1038        26.857802   3.827462     0.0       2          1      -1"
      ]
     },
     "execution_count": 36,
     "metadata": {},
     "output_type": "execute_result"
    }
   ],
   "source": [
    "# Flag the products filtered out by DBSCAN\n",
    "metrics_1[metrics_1['DBSCAN']== -1].head()"
   ]
  },
  {
   "cell_type": "code",
   "execution_count": null,
   "metadata": {},
   "outputs": [],
   "source": []
  }
 ],
 "metadata": {
  "kernelspec": {
   "display_name": "Python 3",
   "language": "python",
   "name": "python3"
  },
  "language_info": {
   "codemirror_mode": {
    "name": "ipython",
    "version": 3
   },
   "file_extension": ".py",
   "mimetype": "text/x-python",
   "name": "python",
   "nbconvert_exporter": "python",
   "pygments_lexer": "ipython3",
   "version": "3.7.3"
  }
 },
 "nbformat": 4,
 "nbformat_minor": 4
}
